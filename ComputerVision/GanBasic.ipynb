{
  "nbformat": 4,
  "nbformat_minor": 0,
  "metadata": {
    "colab": {
      "provenance": [],
      "authorship_tag": "ABX9TyPJ0KiuoKXgGy2ex97z3WYy",
      "include_colab_link": true
    },
    "kernelspec": {
      "name": "python3",
      "display_name": "Python 3"
    },
    "language_info": {
      "name": "python"
    }
  },
  "cells": [
    {
      "cell_type": "markdown",
      "metadata": {
        "id": "view-in-github",
        "colab_type": "text"
      },
      "source": [
        "<a href=\"https://colab.research.google.com/github/derek-shing/ML-Engineer-Exam/blob/main/ComputerVision/GanBasic.ipynb\" target=\"_parent\"><img src=\"https://colab.research.google.com/assets/colab-badge.svg\" alt=\"Open In Colab\"/></a>"
      ]
    },
    {
      "cell_type": "code",
      "execution_count": 11,
      "metadata": {
        "id": "Ld-2kDkamZ-6"
      },
      "outputs": [],
      "source": [
        "#import\n",
        "import tensorflow as tf\n",
        "from tensorflow.keras.layers import Dense, BatchNormalization, LeakyReLU, Conv2DTranspose, Reshape\n",
        "import numpy as np\n",
        "import matplotlib.pyplot as plt\n",
        "import time"
      ]
    },
    {
      "cell_type": "code",
      "source": [
        "#Load data\n",
        "(train_image, train_label),(_,_) = tf.keras.datasets.mnist.load_data() #return (x_tranin, y_train),(x_test,y_test)"
      ],
      "metadata": {
        "colab": {
          "base_uri": "https://localhost:8080/"
        },
        "id": "j8YJYuci-AmS",
        "outputId": "b79ef0b1-46a7-4962-a690-695d714c9bb6"
      },
      "execution_count": 3,
      "outputs": [
        {
          "output_type": "stream",
          "name": "stdout",
          "text": [
            "Downloading data from https://storage.googleapis.com/tensorflow/tf-keras-datasets/mnist.npz\n",
            "11490434/11490434 [==============================] - 0s 0us/step\n"
          ]
        }
      ]
    },
    {
      "cell_type": "code",
      "source": [
        "train_image.shape"
      ],
      "metadata": {
        "colab": {
          "base_uri": "https://localhost:8080/"
        },
        "id": "vdophyc1zrOd",
        "outputId": "ed819eff-5d1e-4207-b15c-8bd4df03683b"
      },
      "execution_count": 5,
      "outputs": [
        {
          "output_type": "execute_result",
          "data": {
            "text/plain": [
              "(60000, 28, 28)"
            ]
          },
          "metadata": {},
          "execution_count": 5
        }
      ]
    },
    {
      "cell_type": "code",
      "source": [
        "train_image = train_image.reshape(60000,28,28,-1).astype(\"float32\")"
      ],
      "metadata": {
        "id": "A9mBeG6PzvdE"
      },
      "execution_count": 6,
      "outputs": []
    },
    {
      "cell_type": "code",
      "source": [],
      "metadata": {
        "id": "l578jdopPqCf"
      },
      "execution_count": null,
      "outputs": []
    },
    {
      "cell_type": "code",
      "source": [],
      "metadata": {
        "id": "zgIYsK510Y9L"
      },
      "execution_count": null,
      "outputs": []
    },
    {
      "cell_type": "code",
      "source": [],
      "metadata": {
        "id": "e0zTdltTztoq"
      },
      "execution_count": null,
      "outputs": []
    },
    {
      "cell_type": "markdown",
      "source": [
        "**Define generoter model**"
      ],
      "metadata": {
        "id": "WJ-Lb17SnTz_"
      }
    },
    {
      "cell_type": "code",
      "source": [
        "#3 convoluation transpose layers\n",
        "# each follow by batch normalization and leaky RELU\n",
        "# output is the image shape\n",
        "def define_generator_model():\n",
        "  model = tf.keras.Sequential()\n",
        "  model.add(Dense(7*7*256, use_bias=False, input_shape=(100,)))\n",
        "  model.add(BatchNormalization())\n",
        "  model.add(LeakyReLU())\n",
        "\n",
        "  model.add(Reshape((7,7,256)))\n",
        "  model.add(Conv2DTranspose(128, (5,5), strides=(1,1), use_bias=False, padding='same'))\n",
        "  assert model.output_shape == (None, 7, 7, 128)\n",
        "  model.add(BatchNormalization())\n",
        "  model.add(LeakyReLU())\n",
        "\n",
        "  model.add(Conv2DTranspose(64, (5,5), strides=(2,2), use_bias=False, padding='same'))\n",
        "  assert model.output_shape == (None, 14, 14, 64)\n",
        "  model.add(BatchNormalization())\n",
        "  model.add(LeakyReLU())\n",
        "\n",
        "  model.add(Conv2DTranspose(1, (5,5), strides=(2,2), use_bias=False, padding='same', activation='tanh'))\n",
        "  assert model.output_shape == (None, 28, 28, 1)\n",
        "\n",
        "\n",
        "  return model"
      ],
      "metadata": {
        "id": "GgbktyeMnBWK"
      },
      "execution_count": 16,
      "outputs": []
    },
    {
      "cell_type": "code",
      "source": [
        "#Try to see the out put of the model\n",
        "\n",
        "generator = define_generator_model()\n",
        "noise = tf.random.normal([1,100]) # 1 for 1D vector, 100 for 100 elements\n"
      ],
      "metadata": {
        "id": "e7t-FVQHm-1s"
      },
      "execution_count": 20,
      "outputs": []
    },
    {
      "cell_type": "code",
      "source": [
        "nosie"
      ],
      "metadata": {
        "colab": {
          "base_uri": "https://localhost:8080/"
        },
        "id": "dOwVgv_xVqUi",
        "outputId": "eb1083df-ddb3-410b-ac80-755169ad48d8"
      },
      "execution_count": 21,
      "outputs": [
        {
          "output_type": "execute_result",
          "data": {
            "text/plain": [
              "<tf.Tensor: shape=(1, 100), dtype=float32, numpy=\n",
              "array([[ 0.67159796, -1.2331676 , -0.68361366,  0.04324793,  0.5565306 ,\n",
              "        -0.5421906 , -0.6351011 ,  0.45045733,  0.44136107, -0.34821475,\n",
              "         0.39337096,  0.50901824,  1.7920722 , -0.7104284 , -2.3632243 ,\n",
              "        -1.16965   , -0.50939   , -1.6056244 ,  0.9961536 ,  0.7115575 ,\n",
              "         0.68469244, -0.12044061,  1.5125722 , -1.3624102 ,  0.38251   ,\n",
              "         2.512117  , -0.09036764, -0.8312649 , -0.0956418 ,  0.43509263,\n",
              "        -1.325238  , -0.13073291, -1.7509885 , -0.2556681 , -0.59553325,\n",
              "         0.68188065, -1.4389162 , -0.55089515,  0.9645001 ,  0.50232625,\n",
              "         1.0327761 ,  1.2035415 , -0.22470994,  0.02672582,  0.92172205,\n",
              "         1.2501433 ,  0.8427173 , -2.2559466 ,  0.5770161 ,  0.64771503,\n",
              "        -0.7313925 ,  1.1981845 , -0.30904937,  0.78276396, -0.8042932 ,\n",
              "         0.0642672 , -1.0253332 ,  1.0979474 , -0.77887523, -1.4831141 ,\n",
              "        -1.5506583 ,  0.36713687,  1.061299  ,  0.08068833,  1.1760677 ,\n",
              "         0.01803155,  0.23394144, -0.85655457, -0.18749976,  0.01924863,\n",
              "        -0.35236925,  1.7541846 ,  0.11713398,  1.1396005 ,  1.4086272 ,\n",
              "         0.7578758 , -0.2517217 , -2.123643  , -0.25668138, -0.70696014,\n",
              "        -0.49695846, -0.778801  , -1.0711308 , -0.11597668, -0.89250517,\n",
              "         0.81673664, -0.44220275, -2.0031528 , -0.70097375,  0.8147247 ,\n",
              "        -0.14550798,  0.1293774 ,  1.0940208 ,  0.16821241,  0.7317037 ,\n",
              "         0.4999227 ,  0.7843859 , -0.2876389 , -1.3444687 , -1.0042758 ]],\n",
              "      dtype=float32)>"
            ]
          },
          "metadata": {},
          "execution_count": 21
        }
      ]
    },
    {
      "cell_type": "code",
      "source": [
        "generated_image = generator(noise, training=False)"
      ],
      "metadata": {
        "id": "LBJhz8KVWZ7H"
      },
      "execution_count": 22,
      "outputs": []
    },
    {
      "cell_type": "code",
      "source": [
        "generated_image.shape"
      ],
      "metadata": {
        "colab": {
          "base_uri": "https://localhost:8080/"
        },
        "id": "qlRSL3M1mx6F",
        "outputId": "a51dfa4f-075e-489b-aa90-a3c975dfe18e"
      },
      "execution_count": 24,
      "outputs": [
        {
          "output_type": "execute_result",
          "data": {
            "text/plain": [
              "TensorShape([1, 28, 28, 1])"
            ]
          },
          "metadata": {},
          "execution_count": 24
        }
      ]
    },
    {
      "cell_type": "code",
      "source": [],
      "metadata": {
        "id": "wrE6OdwGXAS7"
      },
      "execution_count": null,
      "outputs": []
    },
    {
      "cell_type": "code",
      "source": [],
      "metadata": {
        "id": "F-AcOkAcW--B"
      },
      "execution_count": null,
      "outputs": []
    }
  ]
}