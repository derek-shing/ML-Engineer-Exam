{
  "nbformat": 4,
  "nbformat_minor": 0,
  "metadata": {
    "colab": {
      "provenance": [],
      "authorship_tag": "ABX9TyOq5HBsqOMtaBHLdQP+yveC",
      "include_colab_link": true
    },
    "kernelspec": {
      "name": "python3",
      "display_name": "Python 3"
    },
    "language_info": {
      "name": "python"
    },
    "accelerator": "GPU",
    "gpuClass": "standard"
  },
  "cells": [
    {
      "cell_type": "markdown",
      "metadata": {
        "id": "view-in-github",
        "colab_type": "text"
      },
      "source": [
        "<a href=\"https://colab.research.google.com/github/derek-shing/ML-Engineer-Exam/blob/main/ComputerVision/GanBasic.ipynb\" target=\"_parent\"><img src=\"https://colab.research.google.com/assets/colab-badge.svg\" alt=\"Open In Colab\"/></a>"
      ]
    },
    {
      "cell_type": "code",
      "execution_count": 1,
      "metadata": {
        "id": "Ld-2kDkamZ-6"
      },
      "outputs": [],
      "source": [
        "#import\n",
        "import tensorflow as tf\n",
        "from tensorflow.keras.layers import Dense, BatchNormalization, LeakyReLU, Conv2DTranspose, Reshape\n",
        "from tensorflow.keras import layers\n",
        "import numpy as np\n",
        "import matplotlib.pyplot as plt\n",
        "import time"
      ]
    },
    {
      "cell_type": "code",
      "source": [],
      "metadata": {
        "id": "ERAfm355_yiM"
      },
      "execution_count": 1,
      "outputs": []
    },
    {
      "cell_type": "code",
      "source": [
        "#Load data\n",
        "(train_image, train_label),(_,_) = tf.keras.datasets.mnist.load_data() #return (x_tranin, y_train),(x_test,y_test)"
      ],
      "metadata": {
        "colab": {
          "base_uri": "https://localhost:8080/"
        },
        "id": "j8YJYuci-AmS",
        "outputId": "d73a15e5-ba59-4d6e-d516-8ecab3610dfb"
      },
      "execution_count": 2,
      "outputs": [
        {
          "output_type": "stream",
          "name": "stdout",
          "text": [
            "Downloading data from https://storage.googleapis.com/tensorflow/tf-keras-datasets/mnist.npz\n",
            "11490434/11490434 [==============================] - 0s 0us/step\n"
          ]
        }
      ]
    },
    {
      "cell_type": "code",
      "source": [],
      "metadata": {
        "id": "tiNDVyLa9LY8"
      },
      "execution_count": 2,
      "outputs": []
    },
    {
      "cell_type": "code",
      "source": [],
      "metadata": {
        "id": "PXycNp7D9LK4"
      },
      "execution_count": 2,
      "outputs": []
    },
    {
      "cell_type": "code",
      "source": [
        "train_image.shape"
      ],
      "metadata": {
        "colab": {
          "base_uri": "https://localhost:8080/"
        },
        "id": "vdophyc1zrOd",
        "outputId": "cbd59e36-51f1-435d-f3e1-070c7c4c5524"
      },
      "execution_count": 3,
      "outputs": [
        {
          "output_type": "execute_result",
          "data": {
            "text/plain": [
              "(60000, 28, 28)"
            ]
          },
          "metadata": {},
          "execution_count": 3
        }
      ]
    },
    {
      "cell_type": "code",
      "source": [
        "train_image = train_image.reshape(60000,28,28,-1).astype(\"float32\")"
      ],
      "metadata": {
        "id": "A9mBeG6PzvdE"
      },
      "execution_count": 4,
      "outputs": []
    },
    {
      "cell_type": "code",
      "source": [
        "BUFFER_SIZE = 60000\n",
        "BATCH_SIZE = 256\n",
        "\n",
        "# Batch and shuffle the data\n",
        "train_dataset = tf.data.Dataset.from_tensor_slices(train_image).shuffle(BUFFER_SIZE).batch(BATCH_SIZE)"
      ],
      "metadata": {
        "id": "l578jdopPqCf"
      },
      "execution_count": 5,
      "outputs": []
    },
    {
      "cell_type": "markdown",
      "source": [
        "**Define generoter model**"
      ],
      "metadata": {
        "id": "WJ-Lb17SnTz_"
      }
    },
    {
      "cell_type": "code",
      "source": [
        "#3 convoluation transpose layers\n",
        "# each follow by batch normalization and leaky RELU\n",
        "# output is the image shape\n",
        "def define_generator_model():\n",
        "  model = tf.keras.Sequential()\n",
        "  model.add(Dense(7*7*256, use_bias=False, input_shape=(100,)))\n",
        "  model.add(BatchNormalization())\n",
        "  model.add(LeakyReLU())\n",
        "\n",
        "  model.add(Reshape((7,7,256)))\n",
        "  model.add(Conv2DTranspose(128, (5,5), strides=(1,1), use_bias=False, padding='same'))\n",
        "  assert model.output_shape == (None, 7, 7, 128)\n",
        "  model.add(BatchNormalization())\n",
        "  model.add(LeakyReLU())\n",
        "\n",
        "  model.add(Conv2DTranspose(64, (5,5), strides=(2,2), use_bias=False, padding='same'))\n",
        "  assert model.output_shape == (None, 14, 14, 64)\n",
        "  model.add(BatchNormalization())\n",
        "  model.add(LeakyReLU())\n",
        "\n",
        "  model.add(Conv2DTranspose(1, (5,5), strides=(2,2), use_bias=False, padding='same', activation='tanh'))\n",
        "  assert model.output_shape == (None, 28, 28, 1)\n",
        "\n",
        "\n",
        "  return model"
      ],
      "metadata": {
        "id": "GgbktyeMnBWK"
      },
      "execution_count": 6,
      "outputs": []
    },
    {
      "cell_type": "code",
      "source": [
        "#Try to see the out put of the model\n",
        "\n",
        "generator = define_generator_model()\n",
        "noise = tf.random.normal([1,100]) # 1 for 1D vector, 100 for 100 elements\n"
      ],
      "metadata": {
        "id": "e7t-FVQHm-1s"
      },
      "execution_count": 7,
      "outputs": []
    },
    {
      "cell_type": "code",
      "source": [
        "noise"
      ],
      "metadata": {
        "colab": {
          "base_uri": "https://localhost:8080/"
        },
        "id": "dOwVgv_xVqUi",
        "outputId": "f699c89a-c858-4cf4-a034-b113c77cee36"
      },
      "execution_count": 8,
      "outputs": [
        {
          "output_type": "execute_result",
          "data": {
            "text/plain": [
              "<tf.Tensor: shape=(1, 100), dtype=float32, numpy=\n",
              "array([[-0.47066373,  0.31187004,  0.12962814, -0.8910447 ,  0.87829006,\n",
              "         2.1564746 ,  0.5003671 , -1.5835102 ,  0.4332993 , -0.38297945,\n",
              "        -0.09065934, -0.27154422, -0.84918076, -2.560799  ,  0.21094143,\n",
              "        -0.8150723 , -1.0014946 , -0.06094595, -2.13723   , -0.8400372 ,\n",
              "        -0.34963188, -0.38195282, -0.7944577 ,  0.79381746, -0.9375652 ,\n",
              "        -1.3664016 , -0.4541424 ,  1.6151131 ,  1.0054702 ,  1.5613974 ,\n",
              "         0.5624213 , -0.88104254, -0.31816357,  0.06586623, -0.6490097 ,\n",
              "         0.95623285, -0.7066538 ,  1.4487686 , -0.17286102,  0.86086553,\n",
              "         0.6569681 , -0.28514504, -0.5139013 ,  0.56792444, -0.92258143,\n",
              "         1.5559299 ,  0.40455583,  0.0484406 , -1.0520265 ,  0.7088624 ,\n",
              "        -1.7756176 , -0.23412232,  0.07280674, -0.70131516, -0.6844044 ,\n",
              "        -0.92261034, -0.6129388 , -1.4994164 , -1.1561174 , -1.3749927 ,\n",
              "         1.1463535 , -1.5118538 ,  1.9556086 ,  0.42433634,  0.03557646,\n",
              "        -0.89151984,  0.4845771 ,  1.230358  , -0.5764945 ,  2.7569718 ,\n",
              "         0.2715741 , -0.07123268, -1.9538498 ,  0.43186256, -0.5396347 ,\n",
              "        -0.8002306 ,  0.4837151 , -0.6070122 ,  1.309422  , -0.6514696 ,\n",
              "        -0.33274227, -1.8250284 ,  0.0264588 ,  0.8050368 , -1.2590595 ,\n",
              "        -2.277527  ,  1.036736  , -1.2460533 , -0.89354366, -1.316756  ,\n",
              "        -0.882919  ,  0.7378887 ,  0.7974995 ,  1.057369  ,  0.50820863,\n",
              "         0.90927523,  0.00282567, -0.4587117 , -1.6037141 , -0.32937884]],\n",
              "      dtype=float32)>"
            ]
          },
          "metadata": {},
          "execution_count": 8
        }
      ]
    },
    {
      "cell_type": "code",
      "source": [
        "generated_image = generator(noise, training=False)"
      ],
      "metadata": {
        "id": "LBJhz8KVWZ7H"
      },
      "execution_count": 9,
      "outputs": []
    },
    {
      "cell_type": "code",
      "source": [
        "generated_image.shape"
      ],
      "metadata": {
        "colab": {
          "base_uri": "https://localhost:8080/"
        },
        "id": "qlRSL3M1mx6F",
        "outputId": "353f0854-071d-41d0-9ba7-eaa83ad94396"
      },
      "execution_count": 10,
      "outputs": [
        {
          "output_type": "execute_result",
          "data": {
            "text/plain": [
              "TensorShape([1, 28, 28, 1])"
            ]
          },
          "metadata": {},
          "execution_count": 10
        }
      ]
    },
    {
      "cell_type": "code",
      "source": [
        "#show image\n",
        "plt.imshow(generated_image[0,:,:,0])"
      ],
      "metadata": {
        "colab": {
          "base_uri": "https://localhost:8080/",
          "height": 447
        },
        "id": "wrE6OdwGXAS7",
        "outputId": "46757090-ca04-41c6-adbd-4412857e3a53"
      },
      "execution_count": 11,
      "outputs": [
        {
          "output_type": "execute_result",
          "data": {
            "text/plain": [
              "<matplotlib.image.AxesImage at 0x7f3c0d7dbb80>"
            ]
          },
          "metadata": {},
          "execution_count": 11
        },
        {
          "output_type": "display_data",
          "data": {
            "text/plain": [
              "<Figure size 640x480 with 1 Axes>"
            ],
            "image/png": "[encoded data removed]"
          },
          "metadata": {}
        }
      ]
    },
    {
      "cell_type": "code",
      "source": [
        "def make_discriminator_model():\n",
        "    model = tf.keras.Sequential()\n",
        "    model.add(layers.Conv2D(64, (5, 5), strides=(2, 2), padding='same',\n",
        "                                     input_shape=[28, 28, 1]))\n",
        "    model.add(layers.LeakyReLU())\n",
        "    model.add(layers.Dropout(0.3))\n",
        "\n",
        "    model.add(layers.Conv2D(128, (5, 5), strides=(2, 2), padding='same'))\n",
        "    model.add(layers.LeakyReLU())\n",
        "    model.add(layers.Dropout(0.3))\n",
        "\n",
        "    model.add(layers.Flatten())\n",
        "    model.add(layers.Dense(1)) # Note the output is a single binary node\n",
        "\n",
        "    return model"
      ],
      "metadata": {
        "id": "_bnKWXOYY7rp"
      },
      "execution_count": 12,
      "outputs": []
    },
    {
      "cell_type": "code",
      "source": [
        "discriminator = make_discriminator_model()"
      ],
      "metadata": {
        "id": "9ydFnHa6B7qo"
      },
      "execution_count": 13,
      "outputs": []
    },
    {
      "cell_type": "code",
      "source": [],
      "metadata": {
        "id": "di6lDcKE_nF3"
      },
      "execution_count": 13,
      "outputs": []
    },
    {
      "cell_type": "markdown",
      "source": [
        "**Define Loss function**"
      ],
      "metadata": {
        "id": "4v0B9bKOnCz5"
      }
    },
    {
      "cell_type": "code",
      "source": [
        "cross_entropy = tf.keras.losses.BinaryCrossentropy(from_logits=True)"
      ],
      "metadata": {
        "id": "qVnAfnohoUvw"
      },
      "execution_count": 14,
      "outputs": []
    },
    {
      "cell_type": "code",
      "source": [
        "def generator_loss(fake_output): #compare discrimintor 's output on fake image with 1, (Goal: want discriminator return 1 on fake image)\n",
        "  return (cross_entropy(tf.ones_like(fake_output), fake_output))\n"
      ],
      "metadata": {
        "id": "dhnYq2gbYvEP"
      },
      "execution_count": 15,
      "outputs": []
    },
    {
      "cell_type": "code",
      "source": [
        "def discriminator_loss(real_output, fake_output):\n",
        "  real_loss = cross_entropy(tf.ones_like(real_output),real_output)\n",
        "  fake_loss = cross_entropy(tf.zeros_like(fake_output),fake_output)\n",
        "  return real_loss+fake_loss"
      ],
      "metadata": {
        "id": "goNpRnthoy_4"
      },
      "execution_count": 16,
      "outputs": []
    },
    {
      "cell_type": "markdown",
      "source": [
        "**Define training step**"
      ],
      "metadata": {
        "id": "FGzeFFMupqPz"
      }
    },
    {
      "cell_type": "code",
      "source": [
        "generator_optimizer = tf.keras.optimizers.Adam(1e-4)\n",
        "discriminator_optimizer = tf.keras.optimizers.Adam(1e-4)"
      ],
      "metadata": {
        "id": "9NDmf8-0wus1"
      },
      "execution_count": 17,
      "outputs": []
    },
    {
      "cell_type": "code",
      "source": [
        "\n",
        "@tf.function\n",
        "def train_step(image):\n",
        "    noise = tf.random.normal([BATCH_SIZE, 100])\n",
        "    \n",
        "    with tf.GradientTape() as gen_tape, tf.GradientTape() as disc_tape:\n",
        "      gen_image = generator(noise, training = True)\n",
        "      real_output = discriminator(image, training= True)\n",
        "      fake_output = discriminator(gen_image, training = True)\n",
        "\n",
        "      disc_loss = discriminator_loss(real_output, fake_output)\n",
        "      gen_loss = generator_loss(fake_output)\n",
        "\n",
        "\n",
        "    #use gradient tape to find the gradient using loss\n",
        "    gradients_of_generator = gen_tape.gradient(gen_loss, generator.trainable_variables)\n",
        "    gradients_of_discriminator = disc_tape.gradient(disc_loss, discriminator.trainable_variables)\n",
        "\n",
        "    generator_optimizer.apply_gradients(zip(gradients_of_generator, generator.trainable_variables))\n",
        "    discriminator_optimizer.apply_gradients(zip(gradients_of_discriminator, discriminator.trainable_variables))\n"
      ],
      "metadata": {
        "id": "WNtI5aOVYbG1"
      },
      "execution_count": 32,
      "outputs": []
    },
    {
      "cell_type": "code",
      "source": [
        "# Notice the use of `tf.function`\n",
        "# This annotation causes the function to be \"compiled\".\n",
        "@tf.function\n",
        "def train_step(images):\n",
        "    noise = tf.random.normal([BATCH_SIZE, noise_dim])\n",
        "    print(\"train_step\")\n",
        "    with tf.GradientTape() as gen_tape, tf.GradientTape() as disc_tape:\n",
        "      generated_images = generator(noise, training=True)\n",
        "\n",
        "      real_output = discriminator(images, training=True)\n",
        "      fake_output = discriminator(generated_images, training=True)\n",
        "\n",
        "      gen_loss = generator_loss(fake_output)\n",
        "      disc_loss = discriminator_loss(real_output, fake_output)\n",
        "    print(\"after with loop \")\n",
        "    gradients_of_generator = gen_tape.gradient(gen_loss, generator.trainable_variables)\n",
        "    gradients_of_discriminator = disc_tape.gradient(disc_loss, discriminator.trainable_variables)\n",
        "    print(\"after gradients\")\n",
        "    generator_optimizer.apply_gradients(zip(gradients_of_generator, generator.trainable_variables))\n",
        "    print(\"after generator optimizer\")\n",
        "    discriminator_optimizer.apply_gradients(zip(gradients_of_discriminator, discriminator.trainable_variables))\n",
        "    print(\"after discriminator optimizer\")"
      ],
      "metadata": {
        "id": "lGTTA7EiMNTw"
      },
      "execution_count": 19,
      "outputs": []
    },
    {
      "cell_type": "code",
      "source": [
        "def generate_and_save_images(model, epoch, test_input):\n",
        "  # Notice `training` is set to False.\n",
        "  # This is so all layers run in inference mode (batchnorm).\n",
        "  predictions = model(test_input, training=False)\n",
        "\n",
        "  fig = plt.figure(figsize=(4, 4))\n",
        "\n",
        "  for i in range(predictions.shape[0]):\n",
        "      plt.subplot(4, 4, i+1)\n",
        "      plt.imshow(predictions[i, :, :, 0] * 127.5 + 127.5, cmap='gray')\n",
        "      plt.axis('off')\n",
        "\n",
        "  plt.savefig('image_at_epoch_{:04d}.png'.format(epoch))\n",
        "  plt.show()"
      ],
      "metadata": {
        "id": "F-AcOkAcW--B"
      },
      "execution_count": 20,
      "outputs": []
    },
    {
      "cell_type": "code",
      "source": [
        "def train(dataset, epochs):\n",
        "  for epoch in range(epochs):\n",
        "    start = time.time()\n",
        "\n",
        "    for image_batch in dataset:\n",
        "      train_step(image_batch)\n",
        "      #print(time.time())\n",
        "    # Produce images for the GIF as you go\n",
        "    display.clear_output(wait=True)\n",
        "    generate_and_save_images(generator,\n",
        "                             epoch + 1,\n",
        "                             seed)\n",
        "\n",
        "    # Save the model every 15 epochs\n",
        "    if (epoch + 1) % 15 == 0:\n",
        "      checkpoint.save(file_prefix = checkpoint_prefix)\n",
        "\n",
        "    print ('Time for epoch {} is {} sec'.format(epoch + 1, time.time()-start))\n",
        "\n",
        "  # Generate after the final epoch\n",
        "  display.clear_output(wait=True)\n",
        "  generate_and_save_images(generator,\n",
        "                           epochs,\n",
        "                           seed)"
      ],
      "metadata": {
        "id": "AfvrA8A5IlJw"
      },
      "execution_count": 36,
      "outputs": []
    },
    {
      "cell_type": "code",
      "source": [
        "import os"
      ],
      "metadata": {
        "id": "GshUS194J1hS"
      },
      "execution_count": 22,
      "outputs": []
    },
    {
      "cell_type": "code",
      "source": [
        "checkpoint_dir = './training_checkpoints'\n",
        "checkpoint_prefix = os.path.join(checkpoint_dir, \"ckpt\")\n",
        "checkpoint = tf.train.Checkpoint(generator_optimizer=generator_optimizer,\n",
        "                                 discriminator_optimizer=discriminator_optimizer,\n",
        "                                 generator=generator,\n",
        "                                 discriminator=discriminator)"
      ],
      "metadata": {
        "id": "sLeybgGbJabY"
      },
      "execution_count": 23,
      "outputs": []
    },
    {
      "cell_type": "code",
      "source": [
        "EPOCHS = 50\n",
        "noise_dim = 100\n",
        "num_examples_to_generate = 16\n",
        "\n",
        "# You will reuse this seed overtime (so it's easier)\n",
        "# to visualize progress in the animated GIF)\n",
        "seed = tf.random.normal([num_examples_to_generate, noise_dim])"
      ],
      "metadata": {
        "id": "9w8_p0OfJdif"
      },
      "execution_count": 34,
      "outputs": []
    },
    {
      "cell_type": "code",
      "source": [
        "from IPython import display"
      ],
      "metadata": {
        "id": "PkR6obwkMy2M"
      },
      "execution_count": 26,
      "outputs": []
    },
    {
      "cell_type": "code",
      "source": [
        "train(train_dataset, EPOCHS)"
      ],
      "metadata": {
        "id": "_Hcb2uidJhjF"
      },
      "execution_count": null,
      "outputs": []
    }
  ]
}