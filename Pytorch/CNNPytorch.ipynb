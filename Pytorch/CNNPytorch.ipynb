{
  "nbformat": 4,
  "nbformat_minor": 0,
  "metadata": {
    "colab": {
      "provenance": [],
      "include_colab_link": true
    },
    "kernelspec": {
      "name": "python3",
      "display_name": "Python 3"
    },
    "language_info": {
      "name": "python"
    },
    "accelerator": "GPU",
    "gpuClass": "standard"
  },
  "cells": [
    {
      "cell_type": "markdown",
      "metadata": {
        "id": "view-in-github",
        "colab_type": "text"
      },
      "source": [
        "<a href=\"https://colab.research.google.com/github/derek-shing/ML-Engineer-Exam/blob/main/Pytorch/CNNPytorch.ipynb\" target=\"_parent\"><img src=\"https://colab.research.google.com/assets/colab-badge.svg\" alt=\"Open In Colab\"/></a>"
      ]
    },
    {
      "cell_type": "code",
      "execution_count": 44,
      "metadata": {
        "id": "Tb8oUeJMpr5F"
      },
      "outputs": [],
      "source": [
        "#nn.Conv2d(in_channels = , out_channels, kernel_size=3, stride =2)"
      ]
    },
    {
      "cell_type": "code",
      "source": [
        "import torch\n",
        "import torch.nn as nn\n",
        "import torch.nn.functional as F\n",
        "import torchvision\n",
        "import torchvision.transforms as transforms\n",
        "import numpy as np\n",
        "import matplotlib.pyplot as plt\n",
        "from datetime import datetime"
      ],
      "metadata": {
        "id": "oGIcULpKuQm6"
      },
      "execution_count": 45,
      "outputs": []
    },
    {
      "cell_type": "code",
      "source": [
        "train_dataset = torchvision.datasets.CIFAR10(\n",
        "    root='.',\n",
        "    train=True,\n",
        "    transform=transforms.ToTensor(),\n",
        "    download= True\n",
        ")"
      ],
      "metadata": {
        "colab": {
          "base_uri": "https://localhost:8080/"
        },
        "id": "h-A06lZPuqI0",
        "outputId": "ef50d71b-2d12-42cd-d156-f108fe0513bc"
      },
      "execution_count": 46,
      "outputs": [
        {
          "output_type": "stream",
          "name": "stdout",
          "text": [
            "Files already downloaded and verified\n"
          ]
        }
      ]
    },
    {
      "cell_type": "code",
      "source": [
        "test_dataset = torchvision.datasets.CIFAR10(\n",
        "    root='.',\n",
        "    train=False,\n",
        "    transform=transforms.ToTensor(),\n",
        "    download= True\n",
        ")"
      ],
      "metadata": {
        "colab": {
          "base_uri": "https://localhost:8080/"
        },
        "id": "BR5Onq_-DXmw",
        "outputId": "3062968d-6f85-409f-ec38-25e96b24b401"
      },
      "execution_count": 47,
      "outputs": [
        {
          "output_type": "stream",
          "name": "stdout",
          "text": [
            "Files already downloaded and verified\n"
          ]
        }
      ]
    },
    {
      "cell_type": "code",
      "source": [
        "train_dataset.data.shape"
      ],
      "metadata": {
        "colab": {
          "base_uri": "https://localhost:8080/"
        },
        "id": "3JZVJ7CoFTio",
        "outputId": "e961a938-ce3b-4412-bbf5-4fcd5106d0fa"
      },
      "execution_count": 48,
      "outputs": [
        {
          "output_type": "execute_result",
          "data": {
            "text/plain": [
              "(50000, 32, 32, 3)"
            ]
          },
          "metadata": {},
          "execution_count": 48
        }
      ]
    },
    {
      "cell_type": "code",
      "source": [],
      "metadata": {
        "id": "DfjUd3ICFZ88"
      },
      "execution_count": 48,
      "outputs": []
    },
    {
      "cell_type": "code",
      "source": [],
      "metadata": {
        "id": "ygvixUZIFX8X"
      },
      "execution_count": 48,
      "outputs": []
    },
    {
      "cell_type": "code",
      "source": [
        "tmp_loader = torch.utils.data.DataLoader(dataset = train_dataset, batch_size = 1, shuffle = True)"
      ],
      "metadata": {
        "id": "PIg6p-rtDdfj"
      },
      "execution_count": 49,
      "outputs": []
    },
    {
      "cell_type": "code",
      "source": [
        "test_dataset"
      ],
      "metadata": {
        "colab": {
          "base_uri": "https://localhost:8080/"
        },
        "id": "Y5YWNXOsEBzY",
        "outputId": "84d11111-e175-4245-a486-70993d4681f6"
      },
      "execution_count": 50,
      "outputs": [
        {
          "output_type": "execute_result",
          "data": {
            "text/plain": [
              "Dataset CIFAR10\n",
              "    Number of datapoints: 10000\n",
              "    Root location: .\n",
              "    Split: Test\n",
              "    StandardTransform\n",
              "Transform: ToTensor()"
            ]
          },
          "metadata": {},
          "execution_count": 50
        }
      ]
    },
    {
      "cell_type": "code",
      "source": [
        "train_dataset"
      ],
      "metadata": {
        "colab": {
          "base_uri": "https://localhost:8080/"
        },
        "id": "GaA1ryWhEDFB",
        "outputId": "43fc03cd-eec6-41db-b56a-c82758f5142d"
      },
      "execution_count": 51,
      "outputs": [
        {
          "output_type": "execute_result",
          "data": {
            "text/plain": [
              "Dataset CIFAR10\n",
              "    Number of datapoints: 50000\n",
              "    Root location: .\n",
              "    Split: Train\n",
              "    StandardTransform\n",
              "Transform: ToTensor()"
            ]
          },
          "metadata": {},
          "execution_count": 51
        }
      ]
    },
    {
      "cell_type": "code",
      "source": [
        "train_dataset.data.shape"
      ],
      "metadata": {
        "colab": {
          "base_uri": "https://localhost:8080/"
        },
        "id": "OYw_7xPzGa_o",
        "outputId": "5d2e6ec0-754e-47a4-d157-20ade947d4fc"
      },
      "execution_count": 52,
      "outputs": [
        {
          "output_type": "execute_result",
          "data": {
            "text/plain": [
              "(50000, 32, 32, 3)"
            ]
          },
          "metadata": {},
          "execution_count": 52
        }
      ]
    },
    {
      "cell_type": "code",
      "source": [
        "#Define Model\n",
        "\n",
        "class CNN(nn.Module):\n",
        "  def __init__(self,K):\n",
        "    super(CNN, self).__init__()\n",
        "\n",
        "    #define Conv layers\n",
        "    self.conv1 = nn.Conv2d(3,32, kernel_size=3, stride =2)\n",
        "    self.conv2 = nn.Conv2d(32,64, kernel_size=3, stride =2)\n",
        "    self.conv3 = nn.Conv2d(64,128, kernel_size=3, stride =2)\n",
        "\n",
        "    #define linear layers\n",
        "\n",
        "    self.fc1 = nn.Linear(128*3*3, 1024)\n",
        "    self.fc2 = nn.Linear(1024, K)\n",
        "\n",
        "  def forward(self, x):\n",
        "      x = F.relu(self.conv1(x))\n",
        "      x = F.relu(self.conv2(x))\n",
        "      x = F.relu(self.conv3(x))\n",
        "      x = x.view(-1 , 128 * 3 * 3)\n",
        "      x = F.dropout(x, p = 0.5)\n",
        "      x = F.relu(self.fc1(x))\n",
        "      x = F.dropout(x, p = 0.2)\n",
        "      x = self.fc2(x)\n",
        "      return x\n",
        "\n"
      ],
      "metadata": {
        "id": "OizUBFNEEHpj"
      },
      "execution_count": 53,
      "outputs": []
    },
    {
      "cell_type": "code",
      "source": [
        "K =10\n",
        "model = CNN(K)"
      ],
      "metadata": {
        "id": "m_o7jmDgJkh9"
      },
      "execution_count": 54,
      "outputs": []
    },
    {
      "cell_type": "code",
      "source": [
        "batch_size = 128\n",
        "train_loader = torch.utils.data.DataLoader(dataset = train_dataset,batch_size = batch_size,shuffle = True)\n",
        "test_loader = torch.utils.data.DataLoader(dataset = test_dataset,batch_size = batch_size,shuffle = False)"
      ],
      "metadata": {
        "id": "R7vT6RvxADNL"
      },
      "execution_count": 55,
      "outputs": []
    },
    {
      "cell_type": "code",
      "source": [
        "for x, y in train_loader:\n",
        "  print(x.shape)"
      ],
      "metadata": {
        "id": "Aq552YIiGihy"
      },
      "execution_count": null,
      "outputs": []
    },
    {
      "cell_type": "code",
      "source": [],
      "metadata": {
        "id": "781cQ2VPGukp"
      },
      "execution_count": 56,
      "outputs": []
    },
    {
      "cell_type": "code",
      "source": [
        "device = torch.device(\"cuda:0\" if torch.cuda.is_available() else \"cpu\")\n",
        "print(device)\n",
        "model.to(device)"
      ],
      "metadata": {
        "colab": {
          "base_uri": "https://localhost:8080/"
        },
        "id": "v_Wo21e1KaAz",
        "outputId": "886ff0a8-2f7a-4011-e388-bc5f13934757"
      },
      "execution_count": 57,
      "outputs": [
        {
          "output_type": "stream",
          "name": "stdout",
          "text": [
            "cuda:0\n"
          ]
        },
        {
          "output_type": "execute_result",
          "data": {
            "text/plain": [
              "CNN(\n",
              "  (conv1): Conv2d(3, 32, kernel_size=(3, 3), stride=(2, 2))\n",
              "  (conv2): Conv2d(32, 64, kernel_size=(3, 3), stride=(2, 2))\n",
              "  (conv3): Conv2d(64, 128, kernel_size=(3, 3), stride=(2, 2))\n",
              "  (fc1): Linear(in_features=1152, out_features=1024, bias=True)\n",
              "  (fc2): Linear(in_features=1024, out_features=10, bias=True)\n",
              ")"
            ]
          },
          "metadata": {},
          "execution_count": 57
        }
      ]
    },
    {
      "cell_type": "code",
      "source": [
        "# Loss and optimizer\n",
        "criterion = nn.CrossEntropyLoss()\n",
        "optimizer = torch.optim.Adam(model.parameters())"
      ],
      "metadata": {
        "id": "nusg-4KRKwd8"
      },
      "execution_count": 58,
      "outputs": []
    },
    {
      "cell_type": "code",
      "source": [
        "def batch_gd(model, criterion, optimizer, train_loader, test_loader, epochs):\n",
        "  train_losses = np.zeros(epochs)\n",
        "  test_losses = np.zeros(epochs)\n",
        "\n",
        "  for it in range(epochs):\n",
        "    model.train()\n",
        "    t0 = datetime.now()\n",
        "    train_loss = []\n",
        "    for inputs, targets in train_loader:\n",
        "      inputs, targets = inputs.to(device) , targets.to(device)\n",
        "\n",
        "      optimizer.zero_grad()\n",
        "\n",
        "      outputs = model(inputs)\n",
        "      loss = criterion(outputs, targets)\n",
        "\n",
        "      loss.backward()\n",
        "      optimizer.step()\n",
        "\n",
        "      train_loss.append(loss.item())\n",
        "      \n",
        "    train_loss = np.mean(train_loss)\n",
        "\n",
        "    model.eval()\n",
        "    test_loss =[]\n",
        "    for inputs, targets in test_loader:\n",
        "      inputs, targets = inputs.to(device), targets.to(device)\n",
        "      outputs = model(inputs)\n",
        "      loss = criterion(outputs, targets)\n",
        "      test_loss = np.mean(loss.item())\n",
        "\n",
        "    train_losses[it] = train_loss\n",
        "    test_losses[it] = test_loss\n",
        "\n",
        "    dt = datetime.now() - t0\n",
        "    print(f'Epoch {it+1}/{epochs}, Train Loss : {train_loss:4f}, Test Loss : {test_loss:4f}')\n",
        "  return train_losses, test_losses\n"
      ],
      "metadata": {
        "id": "7RH69G5hLheA"
      },
      "execution_count": 63,
      "outputs": []
    },
    {
      "cell_type": "code",
      "source": [
        "batch_gd(model, criterion, optimizer, train_loader, test_loader, epochs=15)"
      ],
      "metadata": {
        "colab": {
          "base_uri": "https://localhost:8080/"
        },
        "id": "vuy1sDuC-wPu",
        "outputId": "f457fcfd-8487-4990-c863-56f55f6e2112"
      },
      "execution_count": 64,
      "outputs": [
        {
          "output_type": "stream",
          "name": "stdout",
          "text": [
            "Epoch 1/15, Train Loss : 1.158493, Test Loss : 1.170672\n",
            "Epoch 2/15, Train Loss : 1.094077, Test Loss : 1.288013\n",
            "Epoch 3/15, Train Loss : 1.040560, Test Loss : 0.889964\n",
            "Epoch 4/15, Train Loss : 0.989981, Test Loss : 0.974922\n",
            "Epoch 5/15, Train Loss : 0.947933, Test Loss : 0.874247\n",
            "Epoch 6/15, Train Loss : 0.902622, Test Loss : 0.774446\n",
            "Epoch 7/15, Train Loss : 0.866063, Test Loss : 0.830383\n",
            "Epoch 8/15, Train Loss : 0.837053, Test Loss : 1.271447\n",
            "Epoch 9/15, Train Loss : 0.809275, Test Loss : 1.547425\n",
            "Epoch 10/15, Train Loss : 0.779408, Test Loss : 1.084141\n",
            "Epoch 11/15, Train Loss : 0.745080, Test Loss : 0.816144\n",
            "Epoch 12/15, Train Loss : 0.720127, Test Loss : 0.949359\n",
            "Epoch 13/15, Train Loss : 0.706278, Test Loss : 1.224684\n",
            "Epoch 14/15, Train Loss : 0.686247, Test Loss : 1.365459\n",
            "Epoch 15/15, Train Loss : 0.655162, Test Loss : 1.250355\n"
          ]
        },
        {
          "output_type": "execute_result",
          "data": {
            "text/plain": [
              "(array([1.15849268, 1.09407671, 1.0405602 , 0.98998118, 0.94793335,\n",
              "        0.90262246, 0.86606345, 0.83705298, 0.809275  , 0.7794079 ,\n",
              "        0.74508017, 0.72012701, 0.70627801, 0.68624696, 0.65516194]),\n",
              " array([1.1706723 , 1.28801298, 0.88996357, 0.9749223 , 0.87424737,\n",
              "        0.77444571, 0.8303833 , 1.27144682, 1.54742491, 1.08414066,\n",
              "        0.81614363, 0.9493593 , 1.22468436, 1.36545885, 1.25035489]))"
            ]
          },
          "metadata": {},
          "execution_count": 64
        }
      ]
    },
    {
      "cell_type": "code",
      "source": [],
      "metadata": {
        "id": "yzuL2fRL_YCp"
      },
      "execution_count": null,
      "outputs": []
    }
  ]
}