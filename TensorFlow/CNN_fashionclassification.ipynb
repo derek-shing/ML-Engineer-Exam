{
  "nbformat": 4,
  "nbformat_minor": 0,
  "metadata": {
    "colab": {
      "provenance": []
    },
    "kernelspec": {
      "name": "python3",
      "display_name": "Python 3"
    },
    "language_info": {
      "name": "python"
    }
  },
  "cells": [
    {
      "cell_type": "code",
      "execution_count": 3,
      "metadata": {
        "id": "G-2hHCdhIEsM"
      },
      "outputs": [],
      "source": [
        "import tensorflow as tf\n",
        "import numpy as np\n",
        "import matplotlib.pyplot as plt\n",
        "from tensorflow.keras.models import Model\n",
        "from tensorflow.keras.layers import Input, Conv2D, Dense, Flatten, Dropout "
      ]
    },
    {
      "cell_type": "code",
      "source": [],
      "metadata": {
        "id": "X-Yg1VI1I6tH"
      },
      "execution_count": null,
      "outputs": []
    },
    {
      "cell_type": "code",
      "source": [
        "#Load in fashion MNIST data\n",
        "\n",
        "fashion_mnist = tf.keras.datasets.fashion_mnist\n",
        "(x_train, y_train),(x_test, y_test) = fashion_mnist.load_data()\n",
        "x_train, x_test = x_train/255, x_test/255"
      ],
      "metadata": {
        "id": "JeMJPMJVImz1"
      },
      "execution_count": 10,
      "outputs": []
    },
    {
      "cell_type": "code",
      "source": [
        "x_train.shape"
      ],
      "metadata": {
        "colab": {
          "base_uri": "https://localhost:8080/"
        },
        "id": "7NxUily2Jb-J",
        "outputId": "ba3aabcd-a99a-4a5f-9c74-cb0675489013"
      },
      "execution_count": 11,
      "outputs": [
        {
          "output_type": "execute_result",
          "data": {
            "text/plain": [
              "(60000, 28, 28)"
            ]
          },
          "metadata": {},
          "execution_count": 11
        }
      ]
    },
    {
      "cell_type": "code",
      "source": [
        "# make the dataset 3D for expected input of the Convoluation layer\n",
        "\n",
        "x_train = np.expand_dims(x_train,-1)\n",
        "x_test = np.expand_dims(x_test,-1)\n",
        "print(x_train.shape)"
      ],
      "metadata": {
        "colab": {
          "base_uri": "https://localhost:8080/"
        },
        "id": "3c30EBl5JflV",
        "outputId": "f6b7883e-e0ec-4255-b476-3e7bc4618be0"
      },
      "execution_count": 12,
      "outputs": [
        {
          "output_type": "stream",
          "name": "stdout",
          "text": [
            "(60000, 28, 28, 1)\n"
          ]
        }
      ]
    },
    {
      "cell_type": "code",
      "source": [
        "#number of classes\n",
        "K = len(set(y_train))"
      ],
      "metadata": {
        "id": "UKos6UsRKKGn"
      },
      "execution_count": 13,
      "outputs": []
    },
    {
      "cell_type": "code",
      "source": [
        "K"
      ],
      "metadata": {
        "colab": {
          "base_uri": "https://localhost:8080/"
        },
        "id": "fi90QLPnKW7t",
        "outputId": "05f4ddca-0258-4569-e011-33f6c5acbac2"
      },
      "execution_count": 14,
      "outputs": [
        {
          "output_type": "execute_result",
          "data": {
            "text/plain": [
              "10"
            ]
          },
          "metadata": {},
          "execution_count": 14
        }
      ]
    },
    {
      "cell_type": "code",
      "source": [
        "#Build the model using functional API\n",
        "i = Input(shape = x_train[0].shape)\n",
        "x = Conv2D(32, (3,3), strides = 2, activation='relu')(i)\n",
        "x = Conv2D(64, (3,3), strides = 2, activation='relu')(x)\n",
        "x = Conv2D(128,(3,3), strides = 2, activation = 'relu')(x)\n",
        "x = Flatten()(x)\n",
        "x = Dropout(0.2)(x)\n",
        "x = Dense(512, activation='relu')(x)\n",
        "x = Dropout(0.2)(x)\n",
        "x = Dense(K, activation = 'softmax')(x)\n",
        "model = Model(i,x)\n"
      ],
      "metadata": {
        "id": "t9ovTs6IKYqp"
      },
      "execution_count": 16,
      "outputs": []
    },
    {
      "cell_type": "code",
      "source": [
        "#Compile and fit\n",
        "model.compile(\n",
        "    optimizer = 'adam',\n",
        "    loss = 'sparse_categorical_crossentropy',\n",
        "    metrics=['accuracy']\n",
        ")"
      ],
      "metadata": {
        "id": "-JDdtv2oM1vC"
      },
      "execution_count": 17,
      "outputs": []
    },
    {
      "cell_type": "code",
      "source": [
        "model.fit(x_train, y_train, validation_data=(x_test, y_test), epochs=15)"
      ],
      "metadata": {
        "colab": {
          "base_uri": "https://localhost:8080/"
        },
        "id": "mawdSOAuNzp9",
        "outputId": "3c7adb5f-43cd-484e-f2cc-e48fcc1af8e3"
      },
      "execution_count": 18,
      "outputs": [
        {
          "output_type": "stream",
          "name": "stdout",
          "text": [
            "Epoch 1/15\n",
            "1875/1875 [==============================] - 41s 20ms/step - loss: 0.5187 - accuracy: 0.8096 - val_loss: 0.3894 - val_accuracy: 0.8560\n",
            "Epoch 2/15\n",
            "1875/1875 [==============================] - 38s 20ms/step - loss: 0.3590 - accuracy: 0.8653 - val_loss: 0.3410 - val_accuracy: 0.8763\n",
            "Epoch 3/15\n",
            "1875/1875 [==============================] - 40s 21ms/step - loss: 0.3074 - accuracy: 0.8839 - val_loss: 0.3215 - val_accuracy: 0.8832\n",
            "Epoch 4/15\n",
            "1875/1875 [==============================] - 39s 21ms/step - loss: 0.2757 - accuracy: 0.8957 - val_loss: 0.2983 - val_accuracy: 0.8912\n",
            "Epoch 5/15\n",
            "1875/1875 [==============================] - 39s 21ms/step - loss: 0.2488 - accuracy: 0.9065 - val_loss: 0.2914 - val_accuracy: 0.8948\n",
            "Epoch 6/15\n",
            "1875/1875 [==============================] - 41s 22ms/step - loss: 0.2288 - accuracy: 0.9138 - val_loss: 0.2964 - val_accuracy: 0.8951\n",
            "Epoch 7/15\n",
            "1875/1875 [==============================] - 39s 21ms/step - loss: 0.2101 - accuracy: 0.9205 - val_loss: 0.2920 - val_accuracy: 0.9010\n",
            "Epoch 8/15\n",
            "1875/1875 [==============================] - 39s 21ms/step - loss: 0.1953 - accuracy: 0.9263 - val_loss: 0.2992 - val_accuracy: 0.8983\n",
            "Epoch 9/15\n",
            "1875/1875 [==============================] - 39s 21ms/step - loss: 0.1797 - accuracy: 0.9323 - val_loss: 0.3134 - val_accuracy: 0.8999\n",
            "Epoch 10/15\n",
            "1875/1875 [==============================] - 39s 21ms/step - loss: 0.1694 - accuracy: 0.9348 - val_loss: 0.3029 - val_accuracy: 0.9029\n",
            "Epoch 11/15\n",
            "1875/1875 [==============================] - 38s 20ms/step - loss: 0.1570 - accuracy: 0.9396 - val_loss: 0.3108 - val_accuracy: 0.9020\n",
            "Epoch 12/15\n",
            "1875/1875 [==============================] - 40s 21ms/step - loss: 0.1449 - accuracy: 0.9455 - val_loss: 0.3042 - val_accuracy: 0.9044\n",
            "Epoch 13/15\n",
            "1875/1875 [==============================] - 37s 20ms/step - loss: 0.1385 - accuracy: 0.9459 - val_loss: 0.3291 - val_accuracy: 0.9030\n",
            "Epoch 14/15\n",
            "1875/1875 [==============================] - 38s 20ms/step - loss: 0.1295 - accuracy: 0.9508 - val_loss: 0.3730 - val_accuracy: 0.8957\n",
            "Epoch 15/15\n",
            "1875/1875 [==============================] - 37s 20ms/step - loss: 0.1236 - accuracy: 0.9526 - val_loss: 0.3685 - val_accuracy: 0.9029\n"
          ]
        },
        {
          "output_type": "execute_result",
          "data": {
            "text/plain": [
              "<keras.callbacks.History at 0x7fce4df5a610>"
            ]
          },
          "metadata": {},
          "execution_count": 18
        }
      ]
    },
    {
      "cell_type": "code",
      "source": [],
      "metadata": {
        "id": "AVKR-HedN_jN"
      },
      "execution_count": null,
      "outputs": []
    },
    {
      "cell_type": "code",
      "source": [],
      "metadata": {
        "id": "2ZV0DtW5KH8K"
      },
      "execution_count": null,
      "outputs": []
    },
    {
      "cell_type": "code",
      "source": [],
      "metadata": {
        "id": "dPlh_fjzKCWg"
      },
      "execution_count": null,
      "outputs": []
    }
  ]
}