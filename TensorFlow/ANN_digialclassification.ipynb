{
  "nbformat": 4,
  "nbformat_minor": 0,
  "metadata": {
    "colab": {
      "provenance": []
    },
    "kernelspec": {
      "name": "python3",
      "display_name": "Python 3"
    },
    "language_info": {
      "name": "python"
    }
  },
  "cells": [
    {
      "cell_type": "code",
      "execution_count": 4,
      "metadata": {
        "colab": {
          "base_uri": "https://localhost:8080/"
        },
        "id": "kN7HyoM22phQ",
        "outputId": "88090b98-2046-4b67-9d4f-428b8f209671"
      },
      "outputs": [
        {
          "output_type": "stream",
          "name": "stdout",
          "text": [
            "Downloading data from https://storage.googleapis.com/tensorflow/tf-keras-datasets/mnist.npz\n",
            "11490434/11490434 [==============================] - 0s 0us/step\n"
          ]
        }
      ],
      "source": [
        "#Load Data\n",
        "import tensorflow as tf\n",
        "minst = tf.keras.datasets.mnist\n",
        "(X_train, Y_train),(X_test, Y_test) = minst.load_data()\n",
        "X_train, X_test = X_train/255, X_test/255"
      ]
    },
    {
      "cell_type": "code",
      "source": [
        "X_train.shape"
      ],
      "metadata": {
        "colab": {
          "base_uri": "https://localhost:8080/"
        },
        "id": "fKY5dUwS5b4L",
        "outputId": "b749cba0-e085-413e-f4f2-d73bdb71dfb9"
      },
      "execution_count": 5,
      "outputs": [
        {
          "output_type": "execute_result",
          "data": {
            "text/plain": [
              "(60000, 28, 28)"
            ]
          },
          "metadata": {},
          "execution_count": 5
        }
      ]
    },
    {
      "cell_type": "code",
      "source": [],
      "metadata": {
        "id": "SKmVDxhM5kuY"
      },
      "execution_count": 5,
      "outputs": []
    },
    {
      "cell_type": "code",
      "source": [],
      "metadata": {
        "id": "qZQAYtkR5fMp"
      },
      "execution_count": 5,
      "outputs": []
    },
    {
      "cell_type": "code",
      "source": [
        "#Build model\n",
        "\n",
        "model = tf.keras.models.Sequential([\n",
        "    tf.keras.layers.Flatten(input_shape = (28,28)),\n",
        "    tf.keras.layers.Dense(128, activation='relu'),\n",
        "    tf.keras.layers.Dense(10, activation = 'softmax')\n",
        "])"
      ],
      "metadata": {
        "id": "ucngHlQ02r-Y"
      },
      "execution_count": 6,
      "outputs": []
    },
    {
      "cell_type": "code",
      "source": [],
      "metadata": {
        "id": "tzGNSOwf64AH"
      },
      "execution_count": 6,
      "outputs": []
    },
    {
      "cell_type": "code",
      "source": [
        "#Train Model\n",
        "\n",
        "model.compile(optimizer='adam', loss='sparse_categorical_crossentropy',metrics=['accuracy'])\n",
        "r = model.fit(X_train, Y_train, validation_data=(X_test, Y_test), epochs=10)"
      ],
      "metadata": {
        "colab": {
          "base_uri": "https://localhost:8080/"
        },
        "id": "tfgqIU5D2uhT",
        "outputId": "804ee3cd-095b-43ed-e57d-244fdee5af00"
      },
      "execution_count": 7,
      "outputs": [
        {
          "output_type": "stream",
          "name": "stdout",
          "text": [
            "Epoch 1/10\n",
            "1875/1875 [==============================] - 11s 5ms/step - loss: 0.2544 - accuracy: 0.9271 - val_loss: 0.1301 - val_accuracy: 0.9619\n",
            "Epoch 2/10\n",
            "1875/1875 [==============================] - 9s 5ms/step - loss: 0.1146 - accuracy: 0.9658 - val_loss: 0.1005 - val_accuracy: 0.9683\n",
            "Epoch 3/10\n",
            "1875/1875 [==============================] - 8s 4ms/step - loss: 0.0795 - accuracy: 0.9763 - val_loss: 0.0873 - val_accuracy: 0.9732\n",
            "Epoch 4/10\n",
            "1875/1875 [==============================] - 9s 5ms/step - loss: 0.0603 - accuracy: 0.9817 - val_loss: 0.0795 - val_accuracy: 0.9753\n",
            "Epoch 5/10\n",
            "1875/1875 [==============================] - 9s 5ms/step - loss: 0.0470 - accuracy: 0.9853 - val_loss: 0.0855 - val_accuracy: 0.9738\n",
            "Epoch 6/10\n",
            "1875/1875 [==============================] - 14s 8ms/step - loss: 0.0374 - accuracy: 0.9885 - val_loss: 0.0689 - val_accuracy: 0.9788\n",
            "Epoch 7/10\n",
            "1875/1875 [==============================] - 8s 4ms/step - loss: 0.0295 - accuracy: 0.9909 - val_loss: 0.0779 - val_accuracy: 0.9747\n",
            "Epoch 8/10\n",
            "1875/1875 [==============================] - 10s 5ms/step - loss: 0.0242 - accuracy: 0.9925 - val_loss: 0.0723 - val_accuracy: 0.9778\n",
            "Epoch 9/10\n",
            "1875/1875 [==============================] - 9s 5ms/step - loss: 0.0204 - accuracy: 0.9938 - val_loss: 0.0818 - val_accuracy: 0.9777\n",
            "Epoch 10/10\n",
            "1875/1875 [==============================] - 10s 5ms/step - loss: 0.0163 - accuracy: 0.9948 - val_loss: 0.0882 - val_accuracy: 0.9765\n"
          ]
        }
      ]
    },
    {
      "cell_type": "code",
      "source": [],
      "metadata": {
        "id": "kZXpBelP7r8w"
      },
      "execution_count": 7,
      "outputs": []
    },
    {
      "cell_type": "code",
      "source": [
        "#Evaluate Model"
      ],
      "metadata": {
        "id": "ufmdSuYj2wNc"
      },
      "execution_count": 8,
      "outputs": []
    },
    {
      "cell_type": "code",
      "source": [
        "#Make Predictions\n",
        "P_test = model.predict(X_test)"
      ],
      "metadata": {
        "colab": {
          "base_uri": "https://localhost:8080/"
        },
        "id": "SGZbm8Gi23H6",
        "outputId": "8b63064f-d4f0-473f-cee4-11a8c8b3b193"
      },
      "execution_count": 9,
      "outputs": [
        {
          "output_type": "stream",
          "name": "stdout",
          "text": [
            "313/313 [==============================] - 1s 2ms/step\n"
          ]
        }
      ]
    },
    {
      "cell_type": "code",
      "source": [
        "P_test"
      ],
      "metadata": {
        "colab": {
          "base_uri": "https://localhost:8080/"
        },
        "id": "dA66BqlVA_nm",
        "outputId": "dacbe3b9-59be-40b5-8012-30f86fb5f579"
      },
      "execution_count": 10,
      "outputs": [
        {
          "output_type": "execute_result",
          "data": {
            "text/plain": [
              "array([[1.3734552e-11, 1.8167383e-10, 2.4912243e-09, ..., 9.9997526e-01,\n",
              "        4.1272952e-10, 4.5584596e-08],\n",
              "       [5.3292679e-11, 3.1387077e-09, 9.9999982e-01, ..., 2.3261025e-19,\n",
              "        1.0416101e-07, 2.3560238e-15],\n",
              "       [1.7048931e-08, 9.9755591e-01, 1.9070159e-05, ..., 4.3882224e-05,\n",
              "        2.3753985e-03, 7.6531217e-09],\n",
              "       ...,\n",
              "       [3.8332595e-15, 1.8907610e-12, 3.8320502e-13, ..., 9.4770920e-09,\n",
              "        2.2671425e-06, 1.6976160e-06],\n",
              "       [1.3423964e-09, 5.6367810e-12, 1.2504658e-13, ..., 1.0991745e-11,\n",
              "        5.2693915e-05, 7.0199888e-15],\n",
              "       [3.3947822e-09, 1.6425987e-17, 2.3800220e-10, ..., 3.4799328e-15,\n",
              "        1.3399081e-14, 2.0056529e-13]], dtype=float32)"
            ]
          },
          "metadata": {},
          "execution_count": 10
        }
      ]
    },
    {
      "cell_type": "code",
      "source": [
        "from sklearn.metrics import confusion_matrix\n",
        "import numpy as np\n",
        "import itertools"
      ],
      "metadata": {
        "id": "HRuS1si1BGsj"
      },
      "execution_count": 11,
      "outputs": []
    },
    {
      "cell_type": "code",
      "source": [
        "cm = confusion_matrix(Y_test, P_test)"
      ],
      "metadata": {
        "id": "BsyuROFxBXV_"
      },
      "execution_count": 14,
      "outputs": []
    },
    {
      "cell_type": "code",
      "source": [
        "P_test = P_test.argmax(axis=1)"
      ],
      "metadata": {
        "colab": {
          "base_uri": "https://localhost:8080/",
          "height": 166
        },
        "id": "pidbqdraB5Il",
        "outputId": "58c43778-1973-42fa-cc17-44f7a7b43b9f"
      },
      "execution_count": 15,
      "outputs": [
        {
          "output_type": "error",
          "ename": "AxisError",
          "evalue": "ignored",
          "traceback": [
            "\u001b[0;31m---------------------------------------------------------------------------\u001b[0m",
            "\u001b[0;31mAxisError\u001b[0m                                 Traceback (most recent call last)",
            "\u001b[0;32m<ipython-input-15-5b1127126f8e>\u001b[0m in \u001b[0;36m<module>\u001b[0;34m\u001b[0m\n\u001b[0;32m----> 1\u001b[0;31m \u001b[0mP_test\u001b[0m \u001b[0;34m=\u001b[0m \u001b[0mP_test\u001b[0m\u001b[0;34m.\u001b[0m\u001b[0margmax\u001b[0m\u001b[0;34m(\u001b[0m\u001b[0maxis\u001b[0m\u001b[0;34m=\u001b[0m\u001b[0;36m1\u001b[0m\u001b[0;34m)\u001b[0m\u001b[0;34m\u001b[0m\u001b[0;34m\u001b[0m\u001b[0m\n\u001b[0m",
            "\u001b[0;31mAxisError\u001b[0m: axis 1 is out of bounds for array of dimension 1"
          ]
        }
      ]
    },
    {
      "cell_type": "code",
      "source": [],
      "metadata": {
        "id": "dA477DVSCFuM"
      },
      "execution_count": null,
      "outputs": []
    },
    {
      "cell_type": "code",
      "source": [],
      "metadata": {
        "id": "yIz6l4WvB934"
      },
      "execution_count": null,
      "outputs": []
    },
    {
      "cell_type": "code",
      "source": [
        "Y_test"
      ],
      "metadata": {
        "colab": {
          "base_uri": "https://localhost:8080/"
        },
        "id": "bRl5P5UKBlDA",
        "outputId": "6713ff32-21fa-4cac-8ef5-41c590d130bc"
      },
      "execution_count": 16,
      "outputs": [
        {
          "output_type": "execute_result",
          "data": {
            "text/plain": [
              "array([7, 2, 1, ..., 4, 5, 6], dtype=uint8)"
            ]
          },
          "metadata": {},
          "execution_count": 16
        }
      ]
    },
    {
      "cell_type": "code",
      "source": [],
      "metadata": {
        "id": "qUj5FQEhBuyC"
      },
      "execution_count": null,
      "outputs": []
    },
    {
      "cell_type": "code",
      "source": [
        "cm"
      ],
      "metadata": {
        "id": "tFjchl-VBBwI"
      },
      "execution_count": null,
      "outputs": []
    },
    {
      "cell_type": "code",
      "source": [
        "misclassified_idx = np.where(Y_test!=P_test)"
      ],
      "metadata": {
        "id": "xpTyqvewCIah"
      },
      "execution_count": 17,
      "outputs": []
    },
    {
      "cell_type": "code",
      "source": [
        "misclassified_idx[0]"
      ],
      "metadata": {
        "colab": {
          "base_uri": "https://localhost:8080/"
        },
        "id": "sEurF0NTxidT",
        "outputId": "ac74f8bd-4a76-4601-d38a-c7d0578a7ca0"
      },
      "execution_count": 20,
      "outputs": [
        {
          "output_type": "execute_result",
          "data": {
            "text/plain": [
              "array([ 115,  149,  151,  217,  241,  247,  321,  358,  381,  445,  495,\n",
              "        582,  610,  613,  619,  659,  684,  691,  707,  717,  720,  813,\n",
              "        846,  890,  950,  951,  956, 1014, 1039, 1044, 1112, 1182, 1194,\n",
              "       1226, 1232, 1242, 1247, 1290, 1299, 1319, 1328, 1356, 1393, 1395,\n",
              "       1494, 1522, 1531, 1549, 1554, 1609, 1681, 1709, 1717, 1754, 1878,\n",
              "       1901, 1913, 1941, 1982, 1984, 1992, 2004, 2018, 2043, 2044, 2053,\n",
              "       2098, 2109, 2118, 2130, 2135, 2174, 2182, 2185, 2224, 2266, 2272,\n",
              "       2280, 2293, 2369, 2387, 2406, 2408, 2414, 2462, 2488, 2607, 2618,\n",
              "       2654, 2659, 2730, 2836, 2896, 2938, 2939, 2953, 3005, 3073, 3117,\n",
              "       3189, 3225, 3405, 3503, 3520, 3558, 3565, 3567, 3662, 3718, 3727,\n",
              "       3749, 3751, 3780, 3796, 3811, 3818, 3838, 3893, 3902, 3906, 3926,\n",
              "       3941, 3985, 4017, 4065, 4078, 4140, 4199, 4201, 4224, 4248, 4250,\n",
              "       4289, 4294, 4425, 4443, 4497, 4500, 4505, 4534, 4536, 4551, 4571,\n",
              "       4601, 4723, 4740, 4751, 4761, 4807, 4814, 4823, 4860, 4879, 4880,\n",
              "       4890, 4966, 5331, 5457, 5495, 5642, 5676, 5887, 5955, 5973, 6009,\n",
              "       6011, 6023, 6024, 6045, 6059, 6071, 6083, 6101, 6115, 6166, 6400,\n",
              "       6421, 6571, 6572, 6574, 6576, 6584, 6597, 6598, 6625, 6651, 6755,\n",
              "       6783, 7216, 7457, 7800, 7902, 7915, 7921, 7945, 7991, 8020, 8062,\n",
              "       8091, 8094, 8277, 8325, 8456, 8493, 8509, 8519, 8522, 8523, 8527,\n",
              "       9009, 9015, 9019, 9024, 9253, 9433, 9534, 9587, 9634, 9664, 9669,\n",
              "       9679, 9729, 9745, 9749, 9751, 9768, 9770, 9779, 9782, 9792, 9793,\n",
              "       9811, 9839, 9867, 9944])"
            ]
          },
          "metadata": {},
          "execution_count": 20
        }
      ]
    },
    {
      "cell_type": "code",
      "source": [
        "import matplotlib.pyplot as plt"
      ],
      "metadata": {
        "id": "euzAt6oFynvZ"
      },
      "execution_count": 23,
      "outputs": []
    },
    {
      "cell_type": "code",
      "source": [],
      "metadata": {
        "id": "ofsDrWZGzL2j"
      },
      "execution_count": null,
      "outputs": []
    },
    {
      "cell_type": "code",
      "source": [
        "i = np.random.choice(misclassified_idx[0])\n",
        "plt.imshow(X_test[i])\n",
        "plt.title(\"True label: %s , Predicted: %s\" %(Y_test[i], P_test[i]))"
      ],
      "metadata": {
        "colab": {
          "base_uri": "https://localhost:8080/",
          "height": 298
        },
        "id": "4QrPQQ-6yPka",
        "outputId": "c7f19c90-ce89-4922-d68f-11ecbf79a782"
      },
      "execution_count": 34,
      "outputs": [
        {
          "output_type": "execute_result",
          "data": {
            "text/plain": [
              "Text(0.5, 1.0, 'True label: 7 , Predicted: 2')"
            ]
          },
          "metadata": {},
          "execution_count": 34
        },
        {
          "output_type": "display_data",
          "data": {
            "text/plain": [
              "<Figure size 432x288 with 1 Axes>"
            ],
            "image/png": "[encoded data removed]"
          },
          "metadata": {
            "needs_background": "light"
          }
        }
      ]
    },
    {
      "cell_type": "code",
      "source": [],
      "metadata": {
        "id": "EsVSdM1uyw7-"
      },
      "execution_count": null,
      "outputs": []
    },
    {
      "cell_type": "code",
      "source": [],
      "metadata": {
        "id": "VarAkEu-ygGW"
      },
      "execution_count": null,
      "outputs": []
    }
  ]
}